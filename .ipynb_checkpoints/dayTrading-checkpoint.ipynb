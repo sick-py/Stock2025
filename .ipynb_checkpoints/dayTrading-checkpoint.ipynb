{
 "cells": [
  {
   "cell_type": "code",
   "execution_count": 17,
   "id": "fea4e9a9-74f7-46bd-9bd3-ac859a5785a4",
   "metadata": {
    "tags": []
   },
   "outputs": [],
   "source": [
    "import datetime as dt\n",
    "import talib as ta\n",
    "import numpy as np\n",
    "import matplotlib.pyplot as plt\n",
    "import pandas_datareader.data as pdr\n",
    "import yfinance as yf\n",
    "import pandas as pd"
   ]
  },
  {
   "cell_type": "code",
   "execution_count": 18,
   "id": "a34bc442-849e-4a04-a857-89af5d50424b",
   "metadata": {
    "tags": []
   },
   "outputs": [],
   "source": [
    "import json"
   ]
  },
  {
   "cell_type": "code",
   "execution_count": 7,
   "id": "d246d782-91e8-4b11-897d-a57c48e7f742",
   "metadata": {
    "tags": []
   },
   "outputs": [],
   "source": [
    "# get the stocks symbols \n",
    "from yahoo_fin import stock_info as si\n",
    "# df = pd.DataFrame( si.tickers_sp500() )\n",
    "df = pd.DataFrame( si.tickers_nasdaq() ) #49??\n",
    "# df = pd.DataFrame( si.tickers_dow() ) # 30\n",
    "\n",
    "symbol_list = df[0].tolist()"
   ]
  },
  {
   "cell_type": "code",
   "execution_count": 70,
   "id": "6fcc1a1b-18b0-4b62-9112-e4492ad72310",
   "metadata": {
    "tags": []
   },
   "outputs": [
    {
     "name": "stderr",
     "output_type": "stream",
     "text": [
      "ABLVW: No price data found, symbol may be delisted (period=1d)\n",
      "ACABW: No price data found, symbol may be delisted (period=1d)\n",
      "AFARW: No price data found, symbol may be delisted (period=1d)\n",
      "AFJKR: No price data found, symbol may be delisted (period=1d)\n",
      "AIMAW: No price data found, symbol may be delisted (period=1d)\n",
      "AITRR: No price data found, symbol may be delisted (period=1d)\n",
      "ALCYW: No price data found, symbol may be delisted (period=1d)\n",
      "ALSAR: No price data found, symbol may be delisted (period=1d)\n",
      "ANSCW: No price data found, symbol may be delisted (period=1d)\n",
      "APXIW: No price data found, symbol may be delisted (period=1d)\n",
      "AQUNR: No price data found, symbol may be delisted (period=1d)\n",
      "ARTLW: No price data found, symbol may be delisted (period=1d)\n",
      "ATMCR: No price data found, symbol may be delisted (period=1d)\n",
      "ATMCW: No price data found, symbol may be delisted (period=1d)\n",
      "BAERW: No price data found, symbol may be delisted (period=1d)\n",
      "BHACW: No price data found, symbol may be delisted (period=1d)\n",
      "BLEUR: No price data found, symbol may be delisted (period=1d)\n",
      "BOWNR: No price data found, symbol may be delisted (period=1d)\n",
      "BRACR: No price data found, symbol may be delisted (period=1d)\n",
      "BRSHW: No price data found, symbol may be delisted (period=1d)\n",
      "BUJAW: No price data found, symbol may be delisted (period=1d)\n",
      "BWAQR: No price data found, symbol may be delisted (period=1d)\n",
      "BYNOW: No price data found, symbol may be delisted (period=1d)\n",
      "CDAQW: No price data found, symbol may be delisted (period=1d)\n",
      "CETUR: No price data found, symbol may be delisted (period=1d)\n",
      "CETUW: No price data found, symbol may be delisted (period=1d)\n",
      "CFFSW: No price data found, symbol may be delisted (period=1d)\n",
      "CMAXW: No price data found, symbol may be delisted (period=1d)\n",
      "CNGLW: No price data found, symbol may be delisted (period=1d)\n",
      "CONXW: No price data found, symbol may be delisted (period=1d)\n",
      "DBGIW: No price data found, symbol may be delisted (period=1d)\n",
      "DISTR: No price data found, symbol may be delisted (period=1d)\n",
      "DISTW: No price data found, symbol may be delisted (period=1d)\n",
      "DPCSW: No price data found, symbol may be delisted (period=1d)\n",
      "DUETW: No price data found, symbol may be delisted (period=1d)\n",
      "DYCQR: No price data found, symbol may be delisted (period=1d)\n",
      "EMCGR: No price data found, symbol may be delisted (period=1d)\n",
      "ESHAR: No price data found, symbol may be delisted (period=1d)\n",
      "ESLAW: No price data found, symbol may be delisted (period=1d)\n",
      "EUDAW: No price data found, symbol may be delisted (period=1d)\n",
      "FEXDR: No price data found, symbol may be delisted (period=1d)\n",
      "FEXDW: No price data found, symbol may be delisted (period=1d)\n",
      "FGIWW: No price data found, symbol may be delisted (period=1d)\n",
      "FHLTW: No price data found, symbol may be delisted (period=1d)\n",
      "FIACW: No price data found, symbol may be delisted (period=1d)\n",
      "FLFVR: No price data found, symbol may be delisted (period=1d)\n",
      "FORLW: No price data found, symbol may be delisted (period=1d)\n",
      "FTIIW: No price data found, symbol may be delisted (period=1d)\n",
      "GAMCW: No price data found, symbol may be delisted (period=1d)\n",
      "GBBKR: No price data found, symbol may be delisted (period=1d)\n",
      "GBBKW: No price data found, symbol may be delisted (period=1d)\n",
      "GDEVW: No price data found, symbol may be delisted (period=1d)\n",
      "GDSTR: No price data found, symbol may be delisted (period=1d)\n",
      "GDSTW: No price data found, symbol may be delisted (period=1d)\n",
      "GECCZ: No price data found, symbol may be delisted (period=1d)\n",
      "GHIXW: No price data found, symbol may be delisted (period=1d)\n",
      "GLACR: No price data found, symbol may be delisted (period=1d)\n",
      "GLLIR: No price data found, symbol may be delisted (period=1d)\n",
      "GLSTR: No price data found, symbol may be delisted (period=1d)\n",
      "GODNR: No price data found, symbol may be delisted (period=1d)\n",
      "HAIAW: No price data found, symbol may be delisted (period=1d)\n",
      "HHGCR: No price data found, symbol may be delisted (period=1d)\n",
      "HHGCW: No price data found, symbol may be delisted (period=1d)\n",
      "HSPOR: No price data found, symbol may be delisted (period=1d)\n",
      "HSPOW: No price data found, symbol may be delisted (period=1d)\n",
      "IGTAR: No price data found, symbol may be delisted (period=1d)\n",
      "IMAQR: No price data found, symbol may be delisted (period=1d)\n",
      "IMAQW: No price data found, symbol may be delisted (period=1d)\n",
      "INTEW: No price data found, symbol may be delisted (period=1d)\n",
      "IPXXW: No price data found, symbol may be delisted (period=1d)\n",
      "IROHR: No price data found, symbol may be delisted (period=1d)\n",
      "IVCAW: No price data found, symbol may be delisted (period=1d)\n",
      "JVSAR: No price data found, symbol may be delisted (period=1d)\n",
      "KACLR: No price data found, symbol may be delisted (period=1d)\n",
      "KTTAW: No price data found, symbol may be delisted (period=1d)\n",
      "LCFYW: No price data found, symbol may be delisted (period=1d)\n",
      "MARXR: No price data found, symbol may be delisted (period=1d)\n",
      "MCACR: No price data found, symbol may be delisted (period=1d)\n",
      "MCACW: No price data found, symbol may be delisted (period=1d)\n",
      "MCAGR: No price data found, symbol may be delisted (period=1d)\n",
      "MITAW: No price data found, symbol may be delisted (period=1d)\n",
      "MLECW: No price data found, symbol may be delisted (period=1d)\n",
      "MMVWW: No price data found, symbol may be delisted (period=1d)\n",
      "MSSAR: No price data found, symbol may be delisted (period=1d)\n",
      "NCPLW: No price data found, symbol may be delisted (period=1d)\n",
      "NMHIW: No price data found, symbol may be delisted (period=1d)\n",
      "NNAGR: No price data found, symbol may be delisted (period=1d)\n",
      "NOVVR: No price data found, symbol may be delisted (period=1d)\n",
      "NOVVW: No price data found, symbol may be delisted (period=1d)\n",
      "NPABW: No price data found, symbol may be delisted (period=1d)\n",
      "NVACR: No price data found, symbol may be delisted (period=1d)\n",
      "NVACW: No price data found, symbol may be delisted (period=1d)\n",
      "NVNIW: No price data found, symbol may be delisted (period=1d)\n",
      "OAKUW: No price data found, symbol may be delisted (period=1d)\n",
      "PAVMZ: No price data found, symbol may be delisted (period=1d)\n",
      "PEGRW: No price data found, symbol may be delisted (period=1d)\n",
      "PLMJW: No price data found, symbol may be delisted (period=1d)\n",
      "PLTNR: No price data found, symbol may be delisted (period=1d)\n",
      "PPHPR: No price data found, symbol may be delisted (period=1d)\n",
      "PPYAW: No price data found, symbol may be delisted (period=1d)\n",
      "PRLHW: No price data found, symbol may be delisted (period=1d)\n",
      "PTIXW: No price data found, symbol may be delisted (period=1d)\n",
      "PTWOW: No price data found, symbol may be delisted (period=1d)\n",
      "QDROW: No price data found, symbol may be delisted (period=1d)\n",
      "QETAR: No price data found, symbol may be delisted (period=1d)\n",
      "QOMOR: No price data found, symbol may be delisted (period=1d)\n",
      "RACYW: No price data found, symbol may be delisted (period=1d)\n",
      "RELIW: No price data found, symbol may be delisted (period=1d)\n",
      "REVBW: No price data found, symbol may be delisted (period=1d)\n",
      "RFACR: No price data found, symbol may be delisted (period=1d)\n",
      "ROCLW: No price data found, symbol may be delisted (period=1d)\n",
      "RWODR: No price data found, symbol may be delisted (period=1d)\n",
      "SABSW: No price data found, symbol may be delisted (period=1d)\n",
      "SAITW: No price data found, symbol may be delisted (period=1d)\n",
      "SEPAW: No price data found, symbol may be delisted (period=1d)\n",
      "SMXWW: No price data found, symbol may be delisted (period=1d)\n",
      "SRZNW: No price data found, symbol may be delisted (period=1d)\n",
      "SVIIR: No price data found, symbol may be delisted (period=1d)\n",
      "SXTPW: No price data found, symbol may be delisted (period=1d)\n",
      "TENKR: No price data found, symbol may be delisted (period=1d)\n",
      "TETEW: No price data found, symbol may be delisted (period=1d)\n",
      "TGAAW: No price data found, symbol may be delisted (period=1d)\n",
      "THCPW: No price data found, symbol may be delisted (period=1d)\n",
      "TMTCR: No price data found, symbol may be delisted (period=1d)\n",
      "TNONW: No price data found, symbol may be delisted (period=1d)\n",
      "TVGNW: No price data found, symbol may be delisted (period=1d)\n",
      "VMCAW: No price data found, symbol may be delisted (period=1d)\n",
      "VSACW: No price data found, symbol may be delisted (period=1d)\n",
      "WAVSW: No price data found, symbol may be delisted (period=1d)\n",
      "WHLRL: No price data found, symbol may be delisted (period=1d)\n",
      "WINVR: No price data found, symbol may be delisted (period=1d)\n",
      "WINVW: No price data found, symbol may be delisted (period=1d)\n",
      "WTMAR: No price data found, symbol may be delisted (period=1d)\n",
      "YOTAR: No price data found, symbol may be delisted (period=1d)\n",
      "ZAZZT: No data found, symbol may be delisted\n",
      "ZBZZT: No data found, symbol may be delisted\n",
      "ZCARW: No price data found, symbol may be delisted (period=1d)\n",
      "ZCZZT: No data found, symbol may be delisted\n",
      "ZEOWW: No price data found, symbol may be delisted (period=1d)\n",
      "ZJZZT: No price data found, symbol may be delisted (period=1d)\n",
      "ZURAW: No price data found, symbol may be delisted (period=1d)\n",
      "ZVZZT: No price data found, symbol may be delisted (period=1d)\n",
      "ZWZZT: No price data found, symbol may be delisted (period=1d)\n",
      "ZXYZ.A: No data found, symbol may be delisted\n",
      "ZXZZT: No price data found, symbol may be delisted (period=1d)\n"
     ]
    }
   ],
   "source": [
    "start_time = '2024-04-01'\n",
    "end_time ='2024-04-12'\n",
    "period = 14\n",
    "\n",
    "\n",
    "pre_list = []\n",
    "\n",
    "# run this before 9 oclock\n",
    "for symbol in symbol_list:\n",
    "    tick = yf.Ticker(symbol)\n",
    "    p = tick.history(period='1d').Close\n",
    "    if p is not None and len(p) > 0:\n",
    "        price = p[0]\n",
    "        if (price > 1.8 and price < 20):# the data before today\n",
    "            res = tick.get_shares_full(start=\"2024-04-12\", end=None)\n",
    "            if res is not None and len(res) > 0:\n",
    "                volume = res[0]\n",
    "                if volume < (99 * 10**6):\n",
    "                    pre_list.append(symbol)"
   ]
  },
  {
   "cell_type": "code",
   "execution_count": 72,
   "id": "f2758565-5089-4ce5-aa34-1aa4cb2f90b0",
   "metadata": {
    "tags": []
   },
   "outputs": [],
   "source": [
    "with open(\"pre_list.json\", 'w') as file: #write into json\n",
    "    json.dump(pre_list, file)"
   ]
  },
  {
   "cell_type": "code",
   "execution_count": 68,
   "id": "d6d4a83d-1090-40d9-9a44-619afa83325c",
   "metadata": {
    "tags": []
   },
   "outputs": [],
   "source": [
    "with open('pre_list.json', 'r') as file: #load from json\n",
    "    pre_list = json.load(file)"
   ]
  },
  {
   "cell_type": "code",
   "execution_count": 24,
   "id": "82492e4b-737b-41f1-9980-f1a3216820fa",
   "metadata": {
    "jupyter": {
     "source_hidden": true
    },
    "tags": []
   },
   "outputs": [],
   "source": [
    "with open(\"pre_list2.json\", 'w') as file:\n",
    "    json.dump(pre_list2, file)"
   ]
  },
  {
   "cell_type": "code",
   "execution_count": 76,
   "id": "4ee694b4-e9fa-47ca-bb07-84316d9b23dd",
   "metadata": {
    "tags": []
   },
   "outputs": [
    {
     "name": "stdout",
     "output_type": "stream",
     "text": [
      "get it\n",
      "get it\n"
     ]
    }
   ],
   "source": [
    "\n",
    "start_time = '2024-04-01'\n",
    "end_time ='2024-04-12'\n",
    "\n",
    "res_list = []\n",
    "new_list = []\n",
    "volume_list = []\n",
    "# run this before 9 oclock\n",
    "for symbol in pre_list:\n",
    "    tick = yf.Ticker(symbol)\n",
    "    p = tick.history(period='2d')\n",
    "    if p is not None and len(p) > 1:\n",
    "        if p.iloc[1].Volume > (p.iloc[0].Volume): # not 10 times this time \n",
    "            volume_list.append(symbol)\n",
    "        # calculate the volume is 10 times larger corner case one day\n",
    "            if p.iloc[1].Close > (p.iloc[1].Open * 1.1): #calculate it's bigger than 10%\n",
    "                print(\"get it\")\n",
    "                res_list.append(symbol)\n",
    "    elif p is not None and len(p) == 1:\n",
    "        new_list.append(symbol)\n",
    "    #else\n",
    "        \n"
   ]
  },
  {
   "cell_type": "code",
   "execution_count": 78,
   "id": "5a9ac789-295b-4d92-9a72-f1ef0f8f0758",
   "metadata": {
    "tags": []
   },
   "outputs": [
    {
     "data": {
      "text/plain": [
       "['EZGO', 'HGAS']"
      ]
     },
     "execution_count": 78,
     "metadata": {},
     "output_type": "execute_result"
    }
   ],
   "source": [
    "res_list"
   ]
  },
  {
   "cell_type": "code",
   "execution_count": 61,
   "id": "88b113d1-e053-4ba9-83df-c41507e616de",
   "metadata": {
    "tags": []
   },
   "outputs": [
    {
     "name": "stdout",
     "output_type": "stream",
     "text": [
      "ZZZ\n"
     ]
    }
   ],
   "source": [
    "code = pre_list[3]\n",
    "print(code)\n",
    "data = yf.Ticker(code).history(period='3d')"
   ]
  },
  {
   "cell_type": "code",
   "execution_count": 59,
   "id": "c4df1e7c-c0cb-4e15-a02d-b381cf59bdf5",
   "metadata": {
    "tags": []
   },
   "outputs": [
    {
     "data": {
      "text/html": [
       "<div>\n",
       "<style scoped>\n",
       "    .dataframe tbody tr th:only-of-type {\n",
       "        vertical-align: middle;\n",
       "    }\n",
       "\n",
       "    .dataframe tbody tr th {\n",
       "        vertical-align: top;\n",
       "    }\n",
       "\n",
       "    .dataframe thead th {\n",
       "        text-align: right;\n",
       "    }\n",
       "</style>\n",
       "<table border=\"1\" class=\"dataframe\">\n",
       "  <thead>\n",
       "    <tr style=\"text-align: right;\">\n",
       "      <th></th>\n",
       "      <th>Open</th>\n",
       "      <th>High</th>\n",
       "      <th>Low</th>\n",
       "      <th>Close</th>\n",
       "      <th>Volume</th>\n",
       "      <th>Dividends</th>\n",
       "      <th>Stock Splits</th>\n",
       "      <th>Capital Gains</th>\n",
       "    </tr>\n",
       "    <tr>\n",
       "      <th>Date</th>\n",
       "      <th></th>\n",
       "      <th></th>\n",
       "      <th></th>\n",
       "      <th></th>\n",
       "      <th></th>\n",
       "      <th></th>\n",
       "      <th></th>\n",
       "      <th></th>\n",
       "    </tr>\n",
       "  </thead>\n",
       "  <tbody>\n",
       "    <tr>\n",
       "      <th>2024-04-10 00:00:00-04:00</th>\n",
       "      <td>24.680000</td>\n",
       "      <td>24.910000</td>\n",
       "      <td>24.650000</td>\n",
       "      <td>24.910000</td>\n",
       "      <td>21222</td>\n",
       "      <td>0.0</td>\n",
       "      <td>0.0</td>\n",
       "      <td>0.0</td>\n",
       "    </tr>\n",
       "    <tr>\n",
       "      <th>2024-04-11 00:00:00-04:00</th>\n",
       "      <td>24.980000</td>\n",
       "      <td>24.981800</td>\n",
       "      <td>24.980000</td>\n",
       "      <td>24.981800</td>\n",
       "      <td>239</td>\n",
       "      <td>0.0</td>\n",
       "      <td>0.0</td>\n",
       "      <td>0.0</td>\n",
       "    </tr>\n",
       "    <tr>\n",
       "      <th>2024-04-12 00:00:00-04:00</th>\n",
       "      <td>24.342199</td>\n",
       "      <td>24.342199</td>\n",
       "      <td>24.342199</td>\n",
       "      <td>24.342199</td>\n",
       "      <td>18</td>\n",
       "      <td>0.0</td>\n",
       "      <td>0.0</td>\n",
       "      <td>0.0</td>\n",
       "    </tr>\n",
       "  </tbody>\n",
       "</table>\n",
       "</div>"
      ],
      "text/plain": [
       "                                Open       High        Low      Close  Volume  \\\n",
       "Date                                                                            \n",
       "2024-04-10 00:00:00-04:00  24.680000  24.910000  24.650000  24.910000   21222   \n",
       "2024-04-11 00:00:00-04:00  24.980000  24.981800  24.980000  24.981800     239   \n",
       "2024-04-12 00:00:00-04:00  24.342199  24.342199  24.342199  24.342199      18   \n",
       "\n",
       "                           Dividends  Stock Splits  Capital Gains  \n",
       "Date                                                               \n",
       "2024-04-10 00:00:00-04:00        0.0           0.0            0.0  \n",
       "2024-04-11 00:00:00-04:00        0.0           0.0            0.0  \n",
       "2024-04-12 00:00:00-04:00        0.0           0.0            0.0  "
      ]
     },
     "execution_count": 59,
     "metadata": {},
     "output_type": "execute_result"
    }
   ],
   "source": [
    "data"
   ]
  },
  {
   "cell_type": "code",
   "execution_count": 43,
   "id": "26e79877-91df-4fef-866f-3862500cbe8a",
   "metadata": {
    "tags": []
   },
   "outputs": [
    {
     "data": {
      "text/plain": [
       "18.0"
      ]
     },
     "execution_count": 43,
     "metadata": {},
     "output_type": "execute_result"
    }
   ],
   "source": [
    "data.iloc[1].Volume"
   ]
  },
  {
   "cell_type": "code",
   "execution_count": 52,
   "id": "143b54bc-e803-449d-877f-81091081b3ca",
   "metadata": {
    "tags": []
   },
   "outputs": [
    {
     "data": {
      "text/plain": [
       "15441899520"
      ]
     },
     "execution_count": 52,
     "metadata": {},
     "output_type": "execute_result"
    }
   ],
   "source": [
    "yf.Ticker(code).get_shares_full(start=\"2024-04-11\", end=None)[0]"
   ]
  },
  {
   "cell_type": "code",
   "execution_count": null,
   "id": "d6c4f5f4-052e-4d52-add2-8071d8b3644a",
   "metadata": {},
   "outputs": [],
   "source": []
  },
  {
   "cell_type": "code",
   "execution_count": null,
   "id": "1484e7f0-70cc-447c-a463-ebfff687e25d",
   "metadata": {},
   "outputs": [],
   "source": [
    "# choose the less than 20 more than 1.5 stocks "
   ]
  },
  {
   "cell_type": "code",
   "execution_count": null,
   "id": "28559186-fc86-4489-b182-f5d959c82545",
   "metadata": {},
   "outputs": [],
   "source": [
    "# choose the limited shares "
   ]
  },
  {
   "cell_type": "code",
   "execution_count": 55,
   "id": "a7c3471e-d611-4c53-99c1-1cf15245d2fe",
   "metadata": {
    "tags": []
   },
   "outputs": [
    {
     "name": "stdout",
     "output_type": "stream",
     "text": [
      "7430439936\n"
     ]
    }
   ],
   "source": [
    "msft = yf.Ticker(\"MSFT\")\n",
    "print(msft.get_shares_full(start=\"2024-04-11\", end=None)[0])\n",
    "\n",
    "# print(msft.history(period='2d').Close)"
   ]
  },
  {
   "cell_type": "code",
   "execution_count": null,
   "id": "bb20fbc5-17c8-4c14-87a6-e144b950e3f4",
   "metadata": {},
   "outputs": [],
   "source": [
    "# for daytrading \n",
    "\n",
    "\n",
    "\n",
    "def dayTrading(data):\n",
    "    start = data['Open']\n",
    "    end = data['Close']\n",
    "    if (data['Close'] - data['Open']) < (data['Open'] * 10%): # 10%\n",
    "        return False\n",
    "    \n",
    "    if (\n",
    "    "
   ]
  },
  {
   "cell_type": "code",
   "execution_count": null,
   "id": "83fc6be0-58b6-48ca-849b-c912cfbfe998",
   "metadata": {},
   "outputs": [],
   "source": [
    "apple = yf.Ticker(\"APLL\")"
   ]
  }
 ],
 "metadata": {
  "kernelspec": {
   "display_name": "Python 3 (ipykernel)",
   "language": "python",
   "name": "python3"
  },
  "language_info": {
   "codemirror_mode": {
    "name": "ipython",
    "version": 3
   },
   "file_extension": ".py",
   "mimetype": "text/x-python",
   "name": "python",
   "nbconvert_exporter": "python",
   "pygments_lexer": "ipython3",
   "version": "3.11.2"
  }
 },
 "nbformat": 4,
 "nbformat_minor": 5
}
