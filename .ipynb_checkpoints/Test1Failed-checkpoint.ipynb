{
 "cells": [
  {
   "cell_type": "code",
   "execution_count": 2,
   "id": "4d6ab192",
   "metadata": {},
   "outputs": [
    {
     "name": "stdout",
     "output_type": "stream",
     "text": [
      "{'RECOMMENDATION': 'BUY', 'BUY': 14, 'SELL': 2, 'NEUTRAL': 10}\n"
     ]
    }
   ],
   "source": [
    "from tradingview_ta import TA_Handler, Interval, Exchange\n",
    "\n",
    "tesla = TA_Handler(\n",
    "    symbol=\"APA\",\n",
    "    screener=\"america\",\n",
    "    exchange=\"NASDAQ\",\n",
    "    interval=Interval.INTERVAL_1_DAY,\n",
    "    # proxies={'http': 'http://example.com:8080'} # Uncomment to enable proxy (replace the URL).\n",
    ")\n",
    "print(tesla.get_analysis().summary)\n",
    "# Example output: {\"RECOMMENDATION\": \"BUY\", \"BUY\": 8, \"NEUTRAL\": 6, \"SELL\": 3}"
   ]
  },
  {
   "cell_type": "code",
   "execution_count": 4,
   "id": "268344f6",
   "metadata": {},
   "outputs": [
    {
     "ename": "Exception",
     "evalue": "Can't access TradingView's API. HTTP status code: 400. Check for invalid symbol, exchange, or indicators.",
     "output_type": "error",
     "traceback": [
      "\u001b[0;31m---------------------------------------------------------------------------\u001b[0m",
      "\u001b[0;31mException\u001b[0m                                 Traceback (most recent call last)",
      "Cell \u001b[0;32mIn[4], line 1\u001b[0m\n\u001b[0;32m----> 1\u001b[0m \u001b[43mtesla\u001b[49m\u001b[38;5;241;43m.\u001b[39;49m\u001b[43mget_indicators\u001b[49m\u001b[43m(\u001b[49m\u001b[38;5;124;43m'\u001b[39;49m\u001b[38;5;124;43mRSI\u001b[39;49m\u001b[38;5;124;43m'\u001b[39;49m\u001b[43m)\u001b[49m\n",
      "File \u001b[0;32m/Library/Frameworks/Python.framework/Versions/3.11/lib/python3.11/site-packages/tradingview_ta/main.py:358\u001b[0m, in \u001b[0;36mTA_Handler.get_indicators\u001b[0;34m(self, indicators)\u001b[0m\n\u001b[1;32m    356\u001b[0m \u001b[38;5;66;03m# Return False if can't get data\u001b[39;00m\n\u001b[1;32m    357\u001b[0m \u001b[38;5;28;01mif\u001b[39;00m response\u001b[38;5;241m.\u001b[39mstatus_code \u001b[38;5;241m!=\u001b[39m \u001b[38;5;241m200\u001b[39m:\n\u001b[0;32m--> 358\u001b[0m     \u001b[38;5;28;01mraise\u001b[39;00m \u001b[38;5;167;01mException\u001b[39;00m(\u001b[38;5;124m\"\u001b[39m\u001b[38;5;124mCan\u001b[39m\u001b[38;5;124m'\u001b[39m\u001b[38;5;124mt access TradingView\u001b[39m\u001b[38;5;124m'\u001b[39m\u001b[38;5;124ms API. HTTP status code: \u001b[39m\u001b[38;5;132;01m{}\u001b[39;00m\u001b[38;5;124m. Check for invalid symbol, exchange, or indicators.\u001b[39m\u001b[38;5;124m\"\u001b[39m\u001b[38;5;241m.\u001b[39mformat(\n\u001b[1;32m    359\u001b[0m         response\u001b[38;5;241m.\u001b[39mstatus_code))\n\u001b[1;32m    361\u001b[0m result \u001b[38;5;241m=\u001b[39m json\u001b[38;5;241m.\u001b[39mloads(response\u001b[38;5;241m.\u001b[39mtext)[\u001b[38;5;124m\"\u001b[39m\u001b[38;5;124mdata\u001b[39m\u001b[38;5;124m\"\u001b[39m]\n\u001b[1;32m    362\u001b[0m \u001b[38;5;28;01mif\u001b[39;00m result \u001b[38;5;241m!=\u001b[39m []:\n",
      "\u001b[0;31mException\u001b[0m: Can't access TradingView's API. HTTP status code: 400. Check for invalid symbol, exchange, or indicators."
     ]
    }
   ],
   "source": [
    "tesla.get_indicators['RSI']"
   ]
  }
 ],
 "metadata": {
  "kernelspec": {
   "display_name": "Python 3 (ipykernel)",
   "language": "python",
   "name": "python3"
  },
  "language_info": {
   "codemirror_mode": {
    "name": "ipython",
    "version": 3
   },
   "file_extension": ".py",
   "mimetype": "text/x-python",
   "name": "python",
   "nbconvert_exporter": "python",
   "pygments_lexer": "ipython3",
   "version": "3.11.2"
  }
 },
 "nbformat": 4,
 "nbformat_minor": 5
}
