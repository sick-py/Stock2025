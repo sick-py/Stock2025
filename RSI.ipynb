{
 "cells": [
  {
   "cell_type": "code",
   "execution_count": 1,
   "id": "5d8292ef",
   "metadata": {},
   "outputs": [],
   "source": [
    "import datetime as dt\n",
    "import talib as ta\n",
    "import numpy as np\n",
    "import matplotlib.pyplot as plt\n",
    "import pandas_datareader.data as pdr\n",
    "import yfinance as yf"
   ]
  },
  {
   "cell_type": "code",
   "execution_count": null,
   "id": "5730920e-de81-4598-b74e-0d53f3763861",
   "metadata": {},
   "outputs": [],
   "source": [
    "code = 'AAPL'\n",
    "start_time = '2021-01-01'\n",
    "end_time ='2024-03-24'\n",
    "period = 14\n",
    "data = yf.download(code, start = start_time, end = end_time)"
   ]
  },
  {
   "cell_type": "code",
   "execution_count": 8,
   "id": "884341b2",
   "metadata": {},
   "outputs": [
    {
     "name": "stderr",
     "output_type": "stream",
     "text": [
      "[*********************100%%**********************]  1 of 1 completed\n"
     ]
    }
   ],
   "source": [
    "\n",
    "# for RSI\n",
    "def RSI(period, data):    \n",
    "    data['RSI'] = ta.RSI(data['Close'], period)\n",
    "    if data['RSI'][-1] < 30:\n",
    "        #print(data['RSI'][-1])\n",
    "        return True\n",
    "    #print(data['RSI'][-1])\n",
    "    return False"
   ]
  },
  {
   "cell_type": "code",
   "execution_count": 9,
   "id": "683cf425",
   "metadata": {},
   "outputs": [
    {
     "data": {
      "text/plain": [
       "False"
      ]
     },
     "execution_count": 9,
     "metadata": {},
     "output_type": "execute_result"
    }
   ],
   "source": [
    "RSI(period, data)"
   ]
  }
 ],
 "metadata": {
  "kernelspec": {
   "display_name": "Python 3 (ipykernel)",
   "language": "python",
   "name": "python3"
  },
  "language_info": {
   "codemirror_mode": {
    "name": "ipython",
    "version": 3
   },
   "file_extension": ".py",
   "mimetype": "text/x-python",
   "name": "python",
   "nbconvert_exporter": "python",
   "pygments_lexer": "ipython3",
   "version": "3.11.2"
  }
 },
 "nbformat": 4,
 "nbformat_minor": 5
}
