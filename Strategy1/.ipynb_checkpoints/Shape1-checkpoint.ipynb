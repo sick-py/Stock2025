{
 "cells": [
  {
   "cell_type": "code",
   "execution_count": 1,
   "id": "6bac0b81",
   "metadata": {
    "tags": []
   },
   "outputs": [],
   "source": [
    "import datetime as dt\n",
    "import talib as ta\n",
    "import numpy as np\n",
    "import matplotlib.pyplot as plt\n",
    "import pandas_datareader.data as pdr\n",
    "import yfinance as yf\n",
    "import pandas as pd\n",
    "import json"
   ]
  },
  {
   "cell_type": "code",
   "execution_count": 2,
   "id": "2e731565-1043-40f5-8a8b-9c2afe70f96f",
   "metadata": {
    "tags": []
   },
   "outputs": [
    {
     "name": "stdout",
     "output_type": "stream",
     "text": [
      "importing Jupyter notebook from GoodStock.ipynb\n"
     ]
    }
   ],
   "source": [
    "import import_ipynb\n",
    "import GoodStock"
   ]
  },
  {
   "cell_type": "code",
   "execution_count": 1,
   "id": "328040e0-e10c-4e67-8de3-19b52c3f0ef4",
   "metadata": {
    "tags": []
   },
   "outputs": [],
   "source": [
    "#shape1\n",
    "debug = False\n",
    "\n",
    "\n",
    "class State:\n",
    "    def __init__(self, name):\n",
    "        self.name = name\n",
    "    \n",
    "    def on_event(self, data, day):\n",
    "        pass\n",
    "    \n",
    "class UndefineState(State):\n",
    "    def __init__(self, date):\n",
    "        super().__init__('Undef')\n",
    "        self.date = date if date is not None else pd.Timestamp(\"2000-01-01 00:00:00\")\n",
    "\n",
    "    def on_event(self, data, day): #only when on_event, the date is that true date + 1\n",
    "        #cause when we are event means we are already in this stage and now we want to choose \n",
    "        #what stage should we go based on today's data\n",
    "        self.date = data.index[day]\n",
    "        if isRise(data, day, 0.04):\n",
    "            return Rise(self.date)\n",
    "        return self\n",
    "    \n",
    "class Rise(State):\n",
    "    def __init__(self, date):\n",
    "        super().__init__('Rise')\n",
    "        #self.limit = limit\n",
    "        self.date = date if date is not None else pd.Timestamp(\"2000-01-01 00:00:00\")\n",
    "        self.days_rised = 0\n",
    "    \n",
    "    def on_event(self, data, day):\n",
    "        self.date = data.index[day]\n",
    "        self.days_rised += 1\n",
    "        if debug:\n",
    "            print(\"Rise on event:\")\n",
    "            print(self.date)\n",
    "        if isRise(data, day, 0.04): #keep rising #hard code\n",
    "            return self\n",
    "        if isAdjust(data, day, 0.03, 0): #hard code\n",
    "            if debug:\n",
    "                print(\"get into adjust from Rise:\")\n",
    "                print(self.date)\n",
    "            return Adjust(self.date) #check here right or not \n",
    "        \n",
    "        return UndefineState(self.date)\n",
    "    \n",
    "    \n",
    "class Adjust(State):\n",
    "    def __init__(self, date): #in what limit is consdired rise\n",
    "        super().__init__('Adjust')\n",
    "        #self.limit = limit\n",
    "        self.date = date if date is not None else pd.Timestamp(\"2000-01-01 00:00:00\")\n",
    "        self.days_adjusted = 0\n",
    "    \n",
    "    def on_event(self, data, day):\n",
    "        self.date = data.index[day]\n",
    "        self.days_adjusted += 1\n",
    "        if debug:\n",
    "            print(\"adjust on event:\")\n",
    "            print(self.date)\n",
    "        if self.days_adjusted > 3:\n",
    "            return UndefineState(self.date)\n",
    "        \n",
    "        if isAdjust(data, day, 0.03, self.days_adjusted): #keep adjusting\n",
    "            return self\n",
    "        if isHesitate(data, day, 0.03) and self.days_adjusted >= 2: #jump to wave \n",
    "            return Hesitate(self.date)\n",
    "            #return Hesitate(add_days_to_date(self.date, self.days_adjusted))\n",
    "        \n",
    "        return UndefineState(self.date)\n",
    "        #return UndefineState(add_days_to_date(self.date, self.days_adjusted)) \n",
    "\n",
    "class Hesitate(State):\n",
    "    def __init__(self, date):\n",
    "        super().__init__('Hesitate')\n",
    "        self.date = date if date is not None else pd.Timestamp(\"2000-01-01 00:00:00\")\n",
    "        self.days_hesitated = 0\n",
    "    \n",
    "    def on_event(self, data, day):\n",
    "        self.date = data.index[day]\n",
    "        self.days_hesitated += 1\n",
    "        if debug:\n",
    "            print(\"Hesitate on event:\")\n",
    "            print(self.date)\n",
    "        if self.days_hesitated > 2:\n",
    "            return MatchState(self.date)\n",
    "        \n",
    "        if isHesitate(data, day, 0.03): #keep hesitating\n",
    "            return self\n",
    "        \n",
    "        return MatchState(self.date)                         \n",
    "  \n",
    "#class Lost(State):\n",
    "#    def __init__(self, date):\n",
    "#        super().__init__('Lost')  # Initialize the base class with the state name\n",
    "#        self.date = date  # Store the date of the match\n",
    "\n",
    "#    def on_event(self, data, day):\n",
    "#        return UndefineState(self.date)  # Transition back to NoRiseState???           \n",
    "                          \n",
    "class MatchState(State):\n",
    "    def __init__(self, date):\n",
    "        super().__init__('Match')  # Initialize the base class with the state name\n",
    "        self.date = date if date is not None else pd.Timestamp(\"2000-01-01 00:00:00\")\n",
    "\n",
    "    def on_event(self, data, day):\n",
    "        self.date = data.index[day - 1]\n",
    "        stringR = self.date.strftime('%Y/%m/%d')\n",
    "        print(\"get a match at\" + stringR)\n",
    "        return UndefineState(self.date)\n",
    "       "
   ]
  },
  {
   "cell_type": "code",
   "execution_count": 3,
   "id": "c906ac73-00cf-4d3d-ac70-8837242bdc41",
   "metadata": {
    "jupyter": {
     "source_hidden": true
    },
    "tags": []
   },
   "outputs": [],
   "source": [
    "#help function\n",
    "from datetime import datetime, timedelta\n",
    "\n",
    "def add_days_to_date(date_str, days):\n",
    "    # Parse the date string into a datetime object\n",
    "    date_obj = datetime.strptime(date_str, \"%Y-%m-%d\")\n",
    "    \n",
    "    # Add the desired number of days\n",
    "    new_date_obj = date_obj + timedelta(days=days)\n",
    "    \n",
    "    # Convert the new datetime object back to a string\n",
    "    new_date_str = new_date_obj.strftime(\"%Y-%m-%d\")\n",
    "    \n",
    "    return new_date_str\n",
    "\n",
    "def get_moving_average(stock_symbol, window=20):\n",
    "    # Fetch historical data\n",
    "    stock_data = yf.download(stock_symbol, period=\"1mo\", interval=\"1d\")\n",
    "    \n",
    "    # Calculate the moving average\n",
    "    stock_data['MA20'] = stock_data['Close'].rolling(window=window).mean()\n",
    "    \n",
    "    return stock_data"
   ]
  },
  {
   "cell_type": "code",
   "execution_count": 15,
   "id": "2fe36169-8ff5-4cc6-8be9-9e6c011f68ce",
   "metadata": {
    "tags": []
   },
   "outputs": [
    {
     "name": "stderr",
     "output_type": "stream",
     "text": [
      "[*********************100%%**********************]  1 of 1 completed\n"
     ]
    }
   ],
   "source": [
    "# functions needs to feel\n",
    "debug = False\n",
    "\n",
    "def isRise(data, day, limit): #day is realative day to the date frame, day = 0 means the first day in the data\n",
    "    #limit is when the rise is bigger than limit, it returns true for now make it 5%\n",
    "    if ((data.iloc[day][\"High\"] - data.iloc[day - 1][\"Close\"]) / data.iloc[day - 1][\"Close\"] >= limit) and ((data.iloc[day][\"Close\"] - data.iloc[day - 1][\"Close\"]) / data.iloc[day - 1][\"Close\"] >= limit * 0.6):\n",
    "        return True\n",
    "    \n",
    "    return False\n",
    "\n",
    "   \n",
    "def isAdjust(data, day, limit, days_adjusted): #limit is smaller than limit is regard as adjust for now make it 3%\n",
    "    # max min is 3% more or less than the last rise close price\n",
    "    last_close_day = day - days_adjusted - 1\n",
    "    if debug:\n",
    "        print(\"last day price:\" + str(data.iloc[last_close_day][\"Close\"]))\n",
    "    if abs((data.iloc[day][\"High\"] - data.iloc[last_close_day][\"Close\"]) / data.iloc[last_close_day][\"Close\"]) <= limit:\n",
    "        #if debug:\n",
    "            #print(\"the percentage of change from High of this day to close of the last rise:\" + (data.iloc[day][\"High\"] - data.iloc[last_close_day][\"Close\"]) / data.iloc[last_close_day][\"Close\"])\n",
    "        if abs((data.iloc[day][\"Low\"] - data.iloc[last_close_day][\"Close\"]) / data.iloc[last_close_day][\"Close\"]) <= limit:\n",
    "            return True \n",
    "    return False\n",
    "    \n",
    "def isHesitate(data, day, limit):#limit is smaller than limit is regard as adjust for now make it 3%\n",
    "    # (max - min) \\ min < 3%\n",
    "    if abs((data.iloc[day][\"Open\"] - data.iloc[day][\"Close\"]) / data.iloc[day][\"Open\"]) <= limit:\n",
    "        if abs((data.iloc[day][\"High\"] - data.iloc[day][\"Close\"]) / data.iloc[day][\"Open\"]) >= limit or abs((data.iloc[day][\"High\"] - data.iloc[day][\"Open\"]) / data.iloc[day][\"Open\"]) >= limit or abs((data.iloc[day][\"Low\"] - data.iloc[day][\"Open\"]) / data.iloc[day][\"Open\"]) >= limit or abs((data.iloc[day][\"Low\"] - data.iloc[day][\"Close\"]) / data.iloc[day][\"Open\"]) >= limit:\n",
    "            return True\n",
    "\n",
    "    return False\n",
    "        \n",
    "        \n",
    "ticker_symbol = 'AAPL'\n",
    "start_date = \"2024-07-01\"\n",
    "end_date = \"2024-07-12\"\n",
    "\n",
    "data = yf.download(ticker_symbol, start=start_date, end=end_date, interval='1d')"
   ]
  },
  {
   "cell_type": "code",
   "execution_count": 26,
   "id": "9a11b15d-ccdc-4b1b-aefb-d1690d20c7a3",
   "metadata": {
    "tags": []
   },
   "outputs": [
    {
     "name": "stderr",
     "output_type": "stream",
     "text": [
      "[*********************100%%**********************]  1 of 1 completed"
     ]
    },
    {
     "name": "stdout",
     "output_type": "stream",
     "text": [
      "2024-03-04 00:00:00\n"
     ]
    },
    {
     "name": "stderr",
     "output_type": "stream",
     "text": [
      "\n"
     ]
    }
   ],
   "source": [
    "# always start with Monday\n",
    "test_start = \"2024-03-04\"\n",
    "test_end = \"2024-03-21\"\n",
    "\n",
    "data =  yf.download(\"CFG\", start=test_start, end=test_end, interval='1d')\n",
    "print(data.index[0])"
   ]
  },
  {
   "cell_type": "code",
   "execution_count": 2,
   "id": "90497345-ff27-4202-916e-c065d519a2dc",
   "metadata": {
    "tags": []
   },
   "outputs": [],
   "source": [
    "def draw_profit(array1):\n",
    "    profits = np.array(array1)\n",
    "\n",
    "    # Clip the data to the range -0.1 to 0.1\n",
    "    profits_clipped = np.clip(profits, -0.1, 0.1)\n",
    "\n",
    "    # Step 3: Bin the Data\n",
    "    profit_bins = np.round(profits_clipped * 100).astype(int)\n",
    "\n",
    "    # Step 4: Count the Number of Stocks in Each Bin\n",
    "    # Use numpy's bincount to count the occurrences of each bin, shift to start at -10\n",
    "    counts = np.bincount(profit_bins + 10, minlength=21)\n",
    "\n",
    "    # Step 5: Plot the Data\n",
    "    # Create x values from -10 to 10\n",
    "    x_values = np.arange(-10, 11)\n",
    "\n",
    "    plt.bar(x_values, counts, width=0.8, align='center', color='blue', alpha=0.7)\n",
    "    plt.xlabel('Profit (%)')\n",
    "    plt.ylabel('Number of Stocks')\n",
    "    plt.title('Number of Stocks by Profit Percentage')\n",
    "    plt.xticks(x_values)  # Ensure all x values from -10 to 10 are shown\n",
    "    plt.grid(True)\n",
    "\n",
    "    # Show the plot\n",
    "    plt.show()"
   ]
  },
  {
   "cell_type": "code",
   "execution_count": 3,
   "id": "b587d4ce-98d6-4016-ac87-408e9285b79d",
   "metadata": {
    "tags": []
   },
   "outputs": [
    {
     "ename": "NameError",
     "evalue": "name 'pd' is not defined",
     "output_type": "error",
     "traceback": [
      "\u001b[0;31m---------------------------------------------------------------------------\u001b[0m",
      "\u001b[0;31mNameError\u001b[0m                                 Traceback (most recent call last)",
      "Cell \u001b[0;32mIn[3], line 36\u001b[0m\n\u001b[1;32m     34\u001b[0m \u001b[38;5;66;03m# get the stocks symbols \u001b[39;00m\n\u001b[1;32m     35\u001b[0m \u001b[38;5;28;01mfrom\u001b[39;00m \u001b[38;5;21;01myahoo_fin\u001b[39;00m \u001b[38;5;28;01mimport\u001b[39;00m stock_info \u001b[38;5;28;01mas\u001b[39;00m si\n\u001b[0;32m---> 36\u001b[0m df1 \u001b[38;5;241m=\u001b[39m \u001b[43mpd\u001b[49m\u001b[38;5;241m.\u001b[39mDataFrame(si\u001b[38;5;241m.\u001b[39mtickers_sp500())\n\u001b[1;32m     37\u001b[0m \u001b[38;5;66;03m#df1 = pd.DataFrame( si.tickers_nasdaq() )\u001b[39;00m\n\u001b[1;32m     38\u001b[0m \u001b[38;5;66;03m# df3 = pd.DataFrame( si.tickers_dow() ) 30\u001b[39;00m\n\u001b[1;32m     40\u001b[0m symbol_list \u001b[38;5;241m=\u001b[39m df1[\u001b[38;5;241m0\u001b[39m]\u001b[38;5;241m.\u001b[39mtolist()\n",
      "\u001b[0;31mNameError\u001b[0m: name 'pd' is not defined"
     ]
    }
   ],
   "source": [
    "# main loop\n",
    "\n",
    "# when we find the date that rises, we getinto the state machine\n",
    "\n",
    "ticker_symbol = 'AAPL'\n",
    "start_date = \"2024-01-01\"\n",
    "end_date = \"2024-08-01\"\n",
    "\n",
    "\n",
    "#we give you the data for today and you tell me what state do we change to after today\n",
    "def find_stock_pattern(data, date, stock, profits_close, profits_high):\n",
    "    state = UndefineState(date)\n",
    "    results = []\n",
    "\n",
    "    \n",
    "    for day in range(len(data)): #this day is starting 0 from the date of rise\n",
    "        if (day == 0): #skip the frst day because we need 0 day to compare \n",
    "            day = 1\n",
    "        state = state.on_event(data, day)\n",
    "        #print(state.name + \" \" + state.date)     \n",
    "        \n",
    "        if state.name == \"Match\":\n",
    "            if GoodStock.is_ma20_going_up(stock, state.date.strftime('%Y-%m-%d')):\n",
    "                #print(data.iloc[day][\"Close\"])\n",
    "                if day + 2 < len(data):\n",
    "                    profits_close.append((data.iloc[day + 2][\"Close\"] - data.iloc[day][\"Close\"]) / data.iloc[day][\"Close\"])\n",
    "                    profits_high.append((data.iloc[day + 2][\"High\"] - data.iloc[day][\"Close\"]) / data.iloc[day][\"Close\"])\n",
    "                    results.append(state.date)\n",
    "            \n",
    "        \n",
    "    return results\n",
    "\n",
    "\n",
    "# get the stocks symbols \n",
    "from yahoo_fin import stock_info as si\n",
    "df1 = pd.DataFrame(si.tickers_sp500())\n",
    "#df1 = pd.DataFrame( si.tickers_nasdaq() )\n",
    "# df3 = pd.DataFrame( si.tickers_dow() ) 30\n",
    "\n",
    "symbol_list = df1[0].tolist()\n",
    "\n",
    "\n",
    "#compute the profit\n",
    "profits_close = []\n",
    "profits_high = []\n",
    "\n",
    "\n",
    "for item in symbol_list:\n",
    "    data =  yf.download(item, start=start_date, end=end_date, interval='1d')\n",
    "    res = find_stock_pattern(data, start_date, item, profits_close, profits_high)\n",
    "    \n",
    "    \"\"\"if len(res) != 0:\n",
    "        print(item)\n",
    "        print(\"results:\")\n",
    "        print(res)\n",
    "\"\"\"\n",
    "\n",
    "\n",
    "draw_profit(profits_high)\n",
    "draw_profit(profits_close)"
   ]
  },
  {
   "cell_type": "code",
   "execution_count": null,
   "id": "f53d63a0-9de9-4417-8a41-7f8ac7328f2b",
   "metadata": {},
   "outputs": [],
   "source": [
    "#debug version\n"
   ]
  },
  {
   "cell_type": "code",
   "execution_count": 17,
   "id": "b033dc3d-016b-490e-9887-10b2b0d11a16",
   "metadata": {
    "tags": []
   },
   "outputs": [
    {
     "name": "stdout",
     "output_type": "stream",
     "text": [
      "NoR\n",
      "NoR\n",
      "NoR\n",
      "NoR\n",
      "Ri\n",
      "Ri\n",
      "Dates with the pattern: []\n"
     ]
    }
   ],
   "source": [
    "# Example DataFrame\n",
    "data = {\n",
    "    'Open': [212.089996, 216.149994, 220.0, 218.5, 215.0, 214.5],\n",
    "    'High': [217.509995, 220.380005, 221.550003, 220.0, 217.0, 216.0],\n",
    "    'Low': [211.919998, 215.100006, 219.029999, 217.0, 213.0, 213.5],\n",
    "    'Close': [216.75, 220.270004, 221.550003, 218.0, 214.0, 215.5],\n",
    "    'Adj Close': [216.75, 220.270004, 221.550003, 218.0, 214.0, 215.5]\n",
    "}\n",
    "dates = ['2024-07-01', '2024-07-02', '2024-07-03', '2024-07-04', '2024-07-05', '2024-07-06']\n",
    "df = pd.DataFrame(data, index=pd.to_datetime(dates))\n",
    "\n",
    "# Calculate daily percentage change\n",
    "df['Pct Change'] = df['Close'].pct_change() * 100\n",
    "\n",
    "# Define states\n",
    "class State:\n",
    "    def __init__(self, name):\n",
    "        self.name = name\n",
    "\n",
    "    def on_event(self, event):\n",
    "        pass\n",
    "\n",
    "class NoRiseState(State):\n",
    "    def __init__(self):\n",
    "        super().__init__('NoRise')\n",
    "\n",
    "    def on_event(self, event):\n",
    "        print(\"NoR\")\n",
    "        if event['Pct Change'] < 0:\n",
    "            return RiseState(event['Date'])\n",
    "        return self\n",
    "\n",
    "class RiseState(State):\n",
    "    def __init__(self, rise_date):\n",
    "        super().__init__('Rise')\n",
    "        #print(\"Ri\")\n",
    "        self.rise_date = rise_date\n",
    "        self.days_passed = 0\n",
    "\n",
    "    def on_event(self, event):\n",
    "        print(\"Ri\")\n",
    "        self.days_passed += 1\n",
    "        if event['Pct Change'] < -3 and self.days_passed <= 2:\n",
    "            return MatchState(self.rise_date)\n",
    "        if self.days_passed > 2:\n",
    "            return NoRiseState()\n",
    "        return self\n",
    "\n",
    "class MatchState(State):\n",
    "    def __init__(self, match_date):\n",
    "        super().__init__('Match')\n",
    "        self.match_date = match_date\n",
    "\n",
    "    def on_event(self, event):\n",
    "        print(\"Ma\")\n",
    "        return NoRiseState()\n",
    "\n",
    "# Find the required pattern using the state machine\n",
    "def find_stock_pattern(df):\n",
    "    state = NoRiseState()\n",
    "    results = []\n",
    "\n",
    "    for index, row in df.iterrows():\n",
    "        event = {'Date': index, 'Pct Change': row['Pct Change']}\n",
    "        state = state.on_event(event)\n",
    "        if state.name == 'Match':\n",
    "            results.append(state.match_date)\n",
    "\n",
    "    return results\n",
    "\n",
    "# Find and print the dates with the pattern\n",
    "pattern_dates = find_stock_pattern(df)\n",
    "print(\"Dates with the pattern:\", pattern_dates)"
   ]
  }
 ],
 "metadata": {
  "kernelspec": {
   "display_name": "Python 3 (ipykernel)",
   "language": "python",
   "name": "python3"
  },
  "language_info": {
   "codemirror_mode": {
    "name": "ipython",
    "version": 3
   },
   "file_extension": ".py",
   "mimetype": "text/x-python",
   "name": "python",
   "nbconvert_exporter": "python",
   "pygments_lexer": "ipython3",
   "version": "3.11.2"
  }
 },
 "nbformat": 4,
 "nbformat_minor": 5
}
