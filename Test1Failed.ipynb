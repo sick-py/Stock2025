{
 "cells": [
  {
   "cell_type": "code",
   "execution_count": 21,
   "id": "76b93996",
   "metadata": {},
   "outputs": [
    {
     "name": "stdout",
     "output_type": "stream",
     "text": [
      "{'RECOMMENDATION': 'SELL', 'BUY': 2, 'SELL': 14, 'NEUTRAL': 10}\n"
     ]
    }
   ],
   "source": [
    "from tradingview_ta import *\n",
    "\n",
    "# list for symbol\n",
    "# https://tvdb.brianthe.dev\n",
    "\n",
    "tesla = TA_Handler(\n",
    "    symbol=\"TSLA\",\n",
    "    screener=\"america\",\n",
    "    exchange=\"NASDAQ\",\n",
    "    interval=Interval.INTERVAL_1_DAY,\n",
    "    # proxies={'http': 'http://example.com:8080'} # Uncomment to enable proxy (replace the URL).\n",
    ")\n",
    "print(tesla.get_analysis().summary)\n",
    "# Example output: {\"RECOMMENDATION\": \"BUY\", \"BUY\": 8, \"NEUTRAL\": 6, \"SELL\": 3}"
   ]
  },
  {
   "cell_type": "code",
   "execution_count": 13,
   "id": "ba8c189b",
   "metadata": {},
   "outputs": [
    {
     "data": {
      "text/plain": [
       "datetime.datetime(2024, 3, 25, 16, 2, 5, 38198)"
      ]
     },
     "execution_count": 13,
     "metadata": {},
     "output_type": "execute_result"
    }
   ],
   "source": [
    "tesla.get_analysis().time"
   ]
  },
  {
   "cell_type": "code",
   "execution_count": 7,
   "id": "410490ed",
   "metadata": {},
   "outputs": [
    {
     "data": {
      "text/plain": [
       "{'Recommend.Other': 0.18181818,\n",
       " 'Recommend.All': 0.42424242,\n",
       " 'Recommend.MA': 0.66666667,\n",
       " 'RSI': 69.49591742,\n",
       " 'RSI[1]': 64.04271938,\n",
       " 'Stoch.K': 91.23626883,\n",
       " 'Stoch.D': 92.72344269,\n",
       " 'Stoch.K[1]': 91.64232713,\n",
       " 'Stoch.D[1]': 92.58956557,\n",
       " 'CCI20': 136.24590383,\n",
       " 'CCI20[1]': 121.82266485,\n",
       " 'ADX': 25.81142054,\n",
       " 'ADX+DI': 28.59872995,\n",
       " 'ADX-DI': 9.25339805,\n",
       " 'ADX+DI[1]': 25.47819067,\n",
       " 'ADX-DI[1]': 10.32115232,\n",
       " 'AO': 2.37040471,\n",
       " 'AO[1]': 2.15577235,\n",
       " 'Mom': 3.3,\n",
       " 'Mom[1]': 2.65,\n",
       " 'MACD.macd': 0.78146786,\n",
       " 'MACD.signal': 0.42148288,\n",
       " 'Rec.Stoch.RSI': 0,\n",
       " 'Stoch.RSI.K': 92.31181283,\n",
       " 'Rec.WR': 0,\n",
       " 'W.R': -5.65167243,\n",
       " 'Rec.BBPower': 0,\n",
       " 'BBPower': 2.91650025,\n",
       " 'Rec.UO': 0,\n",
       " 'UO': 58.89306895,\n",
       " 'close': 34.5,\n",
       " 'EMA5': 33.69775316,\n",
       " 'SMA5': 33.76,\n",
       " 'EMA10': 33.03231988,\n",
       " 'SMA10': 32.961,\n",
       " 'EMA20': 32.24523588,\n",
       " 'SMA20': 31.682,\n",
       " 'EMA30': 31.97448268,\n",
       " 'SMA30': 31.28866667,\n",
       " 'EMA50': 32.17151056,\n",
       " 'SMA50': 31.1858,\n",
       " 'EMA100': 33.5679708,\n",
       " 'SMA100': 33.6443,\n",
       " 'EMA200': 35.39784502,\n",
       " 'SMA200': 36.7044,\n",
       " 'Rec.Ichimoku': 0,\n",
       " 'Ichimoku.BLine': 32.1625,\n",
       " 'Rec.VWMA': 1,\n",
       " 'VWMA': 31.7790982,\n",
       " 'Rec.HullMA9': 1,\n",
       " 'HullMA9': 34.32214815,\n",
       " 'Pivot.M.Classic.S3': 25.37596667,\n",
       " 'Pivot.M.Classic.S2': 27.89626667,\n",
       " 'Pivot.M.Classic.S1': 28.84313333,\n",
       " 'Pivot.M.Classic.Middle': 30.41656667,\n",
       " 'Pivot.M.Classic.R1': 31.36343333,\n",
       " 'Pivot.M.Classic.R2': 32.93686667,\n",
       " 'Pivot.M.Classic.R3': 35.45716667,\n",
       " 'Pivot.M.Fibonacci.S3': 27.89626667,\n",
       " 'Pivot.M.Fibonacci.S2': 28.85902127,\n",
       " 'Pivot.M.Fibonacci.S1': 29.45381207,\n",
       " 'Pivot.M.Fibonacci.Middle': 30.41656667,\n",
       " 'Pivot.M.Fibonacci.R1': 31.37932127,\n",
       " 'Pivot.M.Fibonacci.R2': 31.97411207,\n",
       " 'Pivot.M.Fibonacci.R3': 32.93686667,\n",
       " 'Pivot.M.Camarilla.S3': 29.0969175,\n",
       " 'Pivot.M.Camarilla.S2': 29.327945,\n",
       " 'Pivot.M.Camarilla.S1': 29.5589725,\n",
       " 'Pivot.M.Camarilla.Middle': 30.41656667,\n",
       " 'Pivot.M.Camarilla.R1': 30.0210275,\n",
       " 'Pivot.M.Camarilla.R2': 30.252055,\n",
       " 'Pivot.M.Camarilla.R3': 30.4830825,\n",
       " 'Pivot.M.Woodie.S3': 26.42955,\n",
       " 'Pivot.M.Woodie.S2': 27.949625,\n",
       " 'Pivot.M.Woodie.S1': 28.94985,\n",
       " 'Pivot.M.Woodie.Middle': 30.469925,\n",
       " 'Pivot.M.Woodie.R1': 31.47015,\n",
       " 'Pivot.M.Woodie.R2': 32.990225,\n",
       " 'Pivot.M.Woodie.R3': 33.99045,\n",
       " 'Pivot.M.Demark.S1': 28.3697,\n",
       " 'Pivot.M.Demark.Middle': 30.17985,\n",
       " 'Pivot.M.Demark.R1': 30.89,\n",
       " 'open': 33.66,\n",
       " 'P.SAR': 31.6084281,\n",
       " 'BB.lower': 28.76250278,\n",
       " 'BB.upper': 34.60149722,\n",
       " 'AO[2]': 1.97708118,\n",
       " 'volume': 7506186,\n",
       " 'change': 3.10818888,\n",
       " 'low': 33.62,\n",
       " 'high': 34.745}"
      ]
     },
     "execution_count": 7,
     "metadata": {},
     "output_type": "execute_result"
    }
   ],
   "source": [
    "tesla.get_indicators()"
   ]
  },
  {
   "cell_type": "code",
   "execution_count": 6,
   "id": "5ba28ed4",
   "metadata": {},
   "outputs": [
    {
     "data": {
      "text/plain": [
       "69.49591742"
      ]
     },
     "execution_count": 6,
     "metadata": {},
     "output_type": "execute_result"
    }
   ],
   "source": [
    "tesla.get_analysis().indicators['RSI']"
   ]
  },
  {
   "cell_type": "code",
   "execution_count": 19,
   "id": "b1b559e4",
   "metadata": {},
   "outputs": [
    {
     "data": {
      "text/plain": [
       "168.76"
      ]
     },
     "execution_count": 19,
     "metadata": {},
     "output_type": "execute_result"
    }
   ],
   "source": [
    "tesla.get_analysis().indicators[\"open\"]"
   ]
  },
  {
   "cell_type": "code",
   "execution_count": 22,
   "id": "e2ee910d",
   "metadata": {},
   "outputs": [],
   "source": [
    "analysis = get_multiple_analysis(screener=\"america\", \n",
    "                                 interval=Interval.INTERVAL_1_HOUR, \n",
    "                                 symbols=[\"nasdaq:tsla\", \"nyse:docn\", \"nasdaq:aapl\"])"
   ]
  }
 ],
 "metadata": {
  "kernelspec": {
   "display_name": "Python 3 (ipykernel)",
   "language": "python",
   "name": "python3"
  },
  "language_info": {
   "codemirror_mode": {
    "name": "ipython",
    "version": 3
   },
   "file_extension": ".py",
   "mimetype": "text/x-python",
   "name": "python",
   "nbconvert_exporter": "python",
   "pygments_lexer": "ipython3",
   "version": "3.11.2"
  }
 },
 "nbformat": 4,
 "nbformat_minor": 5
}
